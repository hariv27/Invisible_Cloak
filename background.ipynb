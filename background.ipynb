{
 "cells": [
  {
   "cell_type": "code",
   "execution_count": 2,
   "metadata": {},
   "outputs": [],
   "source": [
    "import cv2\n",
    "\n",
    "#this is my Webcam\n",
    "cap = cv2.VideoCapture(0)\n",
    "\n",
    "while cap.isOpened():\n",
    "\n",
    "    #frame is what the camera is reading \n",
    "    retval, frame = cap.read()\n",
    "\n",
    "    if retval:\n",
    "        cv2.imshow(\"My Window\",frame)\n",
    "\n",
    "        #waitkey represents the delay the camera is reading\n",
    "        if cv2.waitKey(5) == ord(\"q\"):\n",
    "            cv2.imwrite(\"image.jpg\",frame)\n",
    "            break\n",
    "\n",
    "cap.release()\n",
    "cv2.destroyAllWindows()\n"
   ]
  },
  {
   "cell_type": "code",
   "execution_count": 6,
   "metadata": {},
   "outputs": [],
   "source": [
    "import cv2\n",
    "import numpy as np\n",
    "\n",
    "cap = cv2.VideoCapture(0)\n",
    "\n",
    "#importing the classifier Haar Casscade Classifier for detecting the Faces\n",
    "classifier = cv2.CascadeClassifier(\"haarcascade_frontalface_default.xml\")\n",
    "\n",
    "while True:\n",
    "\n",
    "    #cap.read() returns two parameters returnvalue and frame\n",
    "    ret, frame = cap.read()\n",
    "\n",
    "    #checking whether there is a return Value\n",
    "    if ret:\n",
    "        #detect faces from the frame using the classifier\n",
    "        faces = classifier.detectMultiScale(frame)\n",
    "\n",
    "        #For every face detected in the frame\n",
    "        \n",
    "        i=0\n",
    "        for face in faces:\n",
    "            #storing x,y and width and height of the faces detected\n",
    "            x,y,w,h = face\n",
    "            i = i+1\n",
    "            cv2.imwrite('image'+str(i)+'.png',frame)\n",
    "            frame = cv2.rectangle(frame, (x, y), (x + w, y + h), (0, 0, 255), 4)\n",
    "        \n",
    "    \n",
    "    \n",
    "\n",
    "        cv2.imshow(\"My Window\",frame)\n",
    "\n",
    "    key = cv2.waitKey(1)\n",
    "\n",
    "    if key == ord(\"q\"):\n",
    "        break\n",
    "\n",
    "cap.release()\n",
    "cv2.destroyAllWindows()\n",
    "\n"
   ]
  },
  {
   "cell_type": "code",
   "execution_count": null,
   "metadata": {},
   "outputs": [],
   "source": []
  }
 ],
 "metadata": {
  "kernelspec": {
   "display_name": "Python 3",
   "language": "python",
   "name": "python3"
  },
  "language_info": {
   "codemirror_mode": {
    "name": "ipython",
    "version": 3
   },
   "file_extension": ".py",
   "mimetype": "text/x-python",
   "name": "python",
   "nbconvert_exporter": "python",
   "pygments_lexer": "ipython3",
   "version": "3.8.3"
  }
 },
 "nbformat": 4,
 "nbformat_minor": 4
}

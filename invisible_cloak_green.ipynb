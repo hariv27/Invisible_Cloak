{
 "cells": [
  {
   "cell_type": "code",
   "execution_count": 1,
   "metadata": {},
   "outputs": [],
   "source": [
    "import numpy as np\n",
    "import cv2"
   ]
  },
  {
   "cell_type": "code",
   "execution_count": 2,
   "metadata": {},
   "outputs": [
    {
     "data": {
      "text/plain": [
       "'\\nHSV - Hue Saturation Value\\n\\nH - color \\nS - represents how much color mixed with White \\nV - represents how much color mixed with Black Color \\n\\nHSV means How Human eyes see colors \\n\\n\\nRGB is mixture of Colors \\nHSV means mixture of colors and how much intensity and luminous also as our eyes see\\n\\n'"
      ]
     },
     "execution_count": 2,
     "metadata": {},
     "output_type": "execute_result"
    }
   ],
   "source": [
    "'''\n",
    "HSV - Hue Saturation Value\n",
    "\n",
    "H - color \n",
    "S - represents how much color mixed with White \n",
    "V - represents how much color mixed with Black Color \n",
    "\n",
    "HSV means How Human eyes see colors \n",
    "\n",
    "\n",
    "RGB is mixture of Colors \n",
    "HSV means mixture of colors and how much intensity and luminous also as our eyes see\n",
    "\n",
    "'''"
   ]
  },
  {
   "cell_type": "code",
   "execution_count": 3,
   "metadata": {},
   "outputs": [
    {
     "name": "stderr",
     "output_type": "stream",
     "text": [
      "2024-06-11 11:43:35.725 Python[2405:81354] WARNING: AVCaptureDeviceTypeExternal is deprecated for Continuity Cameras. Please use AVCaptureDeviceTypeContinuityCamera and add NSCameraUseContinuityCameraDeviceType to your Info.plist.\n"
     ]
    }
   ],
   "source": [
    "cap = cv2.VideoCapture(0)\n",
    "back= cv2.imread('./image.jpg')\n",
    "\n",
    "while cap.isOpened():\n",
    "    \n",
    "    retval, frame = cap.read()\n",
    "    \n",
    "    if retval:\n",
    "        #how do we convert rgb to hsv\n",
    "        hsv = cv2.cvtColor(frame,cv2.COLOR_BGR2HSV)\n",
    "        #cv2.imshow(\"hsv\",hsv)\n",
    "        \n",
    "        #how to get hsv value \n",
    "        # lower: Hue-  10,100,1000\n",
    "        #higher: Hue-  h+10,255,255\n",
    "        \n",
    "        #bgr value of black\n",
    "        black = np.uint8([[[0,177,64]]])\n",
    "        hsv_black = cv2.cvtColor(black,cv2.COLOR_BGR2HSV)\n",
    "        #get hsv value of red\n",
    "        #print(hsv_black) \n",
    "        \n",
    "        #threshold the hsv value to get only red colors \n",
    "       \n",
    "        l_black = np.array([45,100,50])\n",
    "        h_black = np.array([75,255,255])\n",
    "        \n",
    "        #shows only red color \n",
    "        mask = cv2.inRange(hsv, l_black, h_black)\n",
    "      \n",
    "        #part1 is all things red \n",
    "        #bistwise and is if both match then replace with background i.e sh\n",
    "        part1 = cv2.bitwise_and(back,back,mask=mask)\n",
    "    \n",
    "\n",
    "        #we are reversing the mask here \n",
    "        mask = cv2.bitwise_not(mask)\n",
    "      \n",
    "        #part2 is all things not red \n",
    "        part2 = cv2.bitwise_and(frame,frame,mask=mask)\n",
    "        #cv2.imshow(\"part2\",part2)\n",
    "        #dilation = cv2.dilate(part1+part2,hsv_black,iterations = 1)\n",
    "        #closing = cv2.morphologyEx(part1+part2, cv2.MORPH_CLOSE, hsv_black)\n",
    "\n",
    "\n",
    "\n",
    "        cv2.imshow(\"cloak\",part1 + part2)\n",
    "    \n",
    "        if cv2.waitKey(5) == ord(\"q\"):\n",
    "            break\n",
    "            \n",
    "cap.release()\n",
    "cv2.destroyAllWindows()\n",
    "        "
   ]
  },
  {
   "cell_type": "code",
   "execution_count": null,
   "metadata": {},
   "outputs": [],
   "source": []
  },
  {
   "cell_type": "code",
   "execution_count": null,
   "metadata": {},
   "outputs": [],
   "source": []
  }
 ],
 "metadata": {
  "kernelspec": {
   "display_name": "Python 3",
   "language": "python",
   "name": "python3"
  },
  "language_info": {
   "codemirror_mode": {
    "name": "ipython",
    "version": 3
   },
   "file_extension": ".py",
   "mimetype": "text/x-python",
   "name": "python",
   "nbconvert_exporter": "python",
   "pygments_lexer": "ipython3",
   "version": "3.12.4"
  }
 },
 "nbformat": 4,
 "nbformat_minor": 4
}
